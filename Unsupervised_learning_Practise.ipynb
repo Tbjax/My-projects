{
  "nbformat": 4,
  "nbformat_minor": 0,
  "metadata": {
    "colab": {
      "provenance": [],
      "mount_file_id": "17LsxenVk52OOxhkbTecMSmZZ7xkgKgJI",
      "authorship_tag": "ABX9TyM/MHEA7CgWC7FutnL8rqhx",
      "include_colab_link": true
    },
    "kernelspec": {
      "name": "python3",
      "display_name": "Python 3"
    },
    "language_info": {
      "name": "python"
    }
  },
  "cells": [
    {
      "cell_type": "markdown",
      "metadata": {
        "id": "view-in-github",
        "colab_type": "text"
      },
      "source": [
        "<a href=\"https://colab.research.google.com/github/Tbjax/My-projects/blob/main/Unsupervised_learning_Practise.ipynb\" target=\"_parent\"><img src=\"https://colab.research.google.com/assets/colab-badge.svg\" alt=\"Open In Colab\"/></a>"
      ]
    },
    {
      "cell_type": "markdown",
      "source": [
        "####**Context**\n",
        "\n",
        "Fantasy sports are online gaming platforms where participants draft and manage virtual teams of real professional sports players. Based on the performance of the players in the real world, players are allotted points in the fantasy sports platform every match. The objective is to create the best possible team with a fixed budget to score maximum fantasy points, and users compete against each other over an entire sports league or season. Some of these fantasy sports require actual financial investments for participation, with the chances of winning monetary rewards as well as free matchday tickets on a periodic basis.\n",
        "\n",
        "The fantasy sports market has seen tremendous growth over the past few years, with a valuation of \\\\$18.6 billion in 2019. The football (soccer) segment led in terms of market share in 2019, with over 8 million participants worldwide, and is expected to retain its dominance over the next couple of years. Digitalization is one of the primary factors driving the growth of the fantasy sports market as it allows participants the opportunity to compete on a global level and test their skills. With an increase in smartphone usage and availability of fantasy sports apps, this market is expected to witness a globe surge and reach a \\\\$48.6 billion valuation by 2027.\n",
        "\n",
        "\n",
        "####**Objective**\n",
        "OnSports is a fantasy sports platform that has fantasy leagues for many different sports and has witnessed an increasing number of participants globally over the past 5 years. For each player, a price is set at the start, and the price keeps changing over time based on the performance of the players in the real world. With the new English Premier League season about to start, they have collected data from the past season and want to analyze it to determine the price of each player for the start of the new season. OnSports has hired you as a data scientist and asked you to conduct a cluster analysis to identify players of different potentials of each player based on previous season performance. This will help them understand the patterns in player performances and fantasy returns and decide the exact price to be set for each player for the upcoming football season."
      ],
      "metadata": {
        "id": "Xvgok2J1LgTa"
      }
    },
    {
      "cell_type": "code",
      "execution_count": 1,
      "metadata": {
        "id": "jyqBN3z9LQgk"
      },
      "outputs": [],
      "source": [
        "# import packages for analysis\n",
        "import pandas as pd\n",
        "import numpy as np\n",
        "\n",
        "# import packages for data visualization\n",
        "import matplotlib.pyplot as plt\n",
        "import seaborn as sns"
      ]
    },
    {
      "cell_type": "code",
      "source": [
        "df = pd.read_csv('/content/drive/MyDrive/MIT-Data_Science-Program/Week3-DataAnalysis-and-Visualization/fpl_data.csv')"
      ],
      "metadata": {
        "id": "0Z2SRy-ZPnPN"
      },
      "execution_count": 3,
      "outputs": []
    },
    {
      "cell_type": "code",
      "source": [
        "df.head()"
      ],
      "metadata": {
        "colab": {
          "base_uri": "https://localhost:8080/",
          "height": 278
        },
        "id": "F0hlTj7bQFhu",
        "outputId": "66e86201-96fb-4125-c9d6-a1c579154606"
      },
      "execution_count": 4,
      "outputs": [
        {
          "output_type": "execute_result",
          "data": {
            "text/plain": [
              "           Player_Name     Club    Position  Goals_Scored  Assists  \\\n",
              "0      Alex Runnarsson  Arsenal  Goalkeeper             0        0   \n",
              "1  Alexandre Lacazette  Arsenal     Forward            13        3   \n",
              "2           Bernd Leno  Arsenal  Goalkeeper             0        0   \n",
              "3          Bukayo Saka  Arsenal  Midfielder             5        5   \n",
              "4       Calum Chambers  Arsenal    Defender             0        3   \n",
              "\n",
              "   Total_Points  Minutes  Goals_Conceded  Creativity  Influence  Threat  \\\n",
              "0             1       15               0         0.0       16.6       0   \n",
              "1           129     1916              21       307.4      602.4     797   \n",
              "2           131     3131              37         0.0      702.2       2   \n",
              "3           114     2554              31       650.6      493.0     984   \n",
              "4            36      751              10       169.4      171.8      77   \n",
              "\n",
              "   Bonus  Clean_Sheets  \n",
              "0      0             0  \n",
              "1     21             7  \n",
              "2     11            11  \n",
              "3      8             8  \n",
              "4      3             2  "
            ],
            "text/html": [
              "\n",
              "  <div id=\"df-2461056e-b7a2-4f0a-885b-8971a7b711c2\" class=\"colab-df-container\">\n",
              "    <div>\n",
              "<style scoped>\n",
              "    .dataframe tbody tr th:only-of-type {\n",
              "        vertical-align: middle;\n",
              "    }\n",
              "\n",
              "    .dataframe tbody tr th {\n",
              "        vertical-align: top;\n",
              "    }\n",
              "\n",
              "    .dataframe thead th {\n",
              "        text-align: right;\n",
              "    }\n",
              "</style>\n",
              "<table border=\"1\" class=\"dataframe\">\n",
              "  <thead>\n",
              "    <tr style=\"text-align: right;\">\n",
              "      <th></th>\n",
              "      <th>Player_Name</th>\n",
              "      <th>Club</th>\n",
              "      <th>Position</th>\n",
              "      <th>Goals_Scored</th>\n",
              "      <th>Assists</th>\n",
              "      <th>Total_Points</th>\n",
              "      <th>Minutes</th>\n",
              "      <th>Goals_Conceded</th>\n",
              "      <th>Creativity</th>\n",
              "      <th>Influence</th>\n",
              "      <th>Threat</th>\n",
              "      <th>Bonus</th>\n",
              "      <th>Clean_Sheets</th>\n",
              "    </tr>\n",
              "  </thead>\n",
              "  <tbody>\n",
              "    <tr>\n",
              "      <th>0</th>\n",
              "      <td>Alex Runnarsson</td>\n",
              "      <td>Arsenal</td>\n",
              "      <td>Goalkeeper</td>\n",
              "      <td>0</td>\n",
              "      <td>0</td>\n",
              "      <td>1</td>\n",
              "      <td>15</td>\n",
              "      <td>0</td>\n",
              "      <td>0.0</td>\n",
              "      <td>16.6</td>\n",
              "      <td>0</td>\n",
              "      <td>0</td>\n",
              "      <td>0</td>\n",
              "    </tr>\n",
              "    <tr>\n",
              "      <th>1</th>\n",
              "      <td>Alexandre Lacazette</td>\n",
              "      <td>Arsenal</td>\n",
              "      <td>Forward</td>\n",
              "      <td>13</td>\n",
              "      <td>3</td>\n",
              "      <td>129</td>\n",
              "      <td>1916</td>\n",
              "      <td>21</td>\n",
              "      <td>307.4</td>\n",
              "      <td>602.4</td>\n",
              "      <td>797</td>\n",
              "      <td>21</td>\n",
              "      <td>7</td>\n",
              "    </tr>\n",
              "    <tr>\n",
              "      <th>2</th>\n",
              "      <td>Bernd Leno</td>\n",
              "      <td>Arsenal</td>\n",
              "      <td>Goalkeeper</td>\n",
              "      <td>0</td>\n",
              "      <td>0</td>\n",
              "      <td>131</td>\n",
              "      <td>3131</td>\n",
              "      <td>37</td>\n",
              "      <td>0.0</td>\n",
              "      <td>702.2</td>\n",
              "      <td>2</td>\n",
              "      <td>11</td>\n",
              "      <td>11</td>\n",
              "    </tr>\n",
              "    <tr>\n",
              "      <th>3</th>\n",
              "      <td>Bukayo Saka</td>\n",
              "      <td>Arsenal</td>\n",
              "      <td>Midfielder</td>\n",
              "      <td>5</td>\n",
              "      <td>5</td>\n",
              "      <td>114</td>\n",
              "      <td>2554</td>\n",
              "      <td>31</td>\n",
              "      <td>650.6</td>\n",
              "      <td>493.0</td>\n",
              "      <td>984</td>\n",
              "      <td>8</td>\n",
              "      <td>8</td>\n",
              "    </tr>\n",
              "    <tr>\n",
              "      <th>4</th>\n",
              "      <td>Calum Chambers</td>\n",
              "      <td>Arsenal</td>\n",
              "      <td>Defender</td>\n",
              "      <td>0</td>\n",
              "      <td>3</td>\n",
              "      <td>36</td>\n",
              "      <td>751</td>\n",
              "      <td>10</td>\n",
              "      <td>169.4</td>\n",
              "      <td>171.8</td>\n",
              "      <td>77</td>\n",
              "      <td>3</td>\n",
              "      <td>2</td>\n",
              "    </tr>\n",
              "  </tbody>\n",
              "</table>\n",
              "</div>\n",
              "    <div class=\"colab-df-buttons\">\n",
              "\n",
              "  <div class=\"colab-df-container\">\n",
              "    <button class=\"colab-df-convert\" onclick=\"convertToInteractive('df-2461056e-b7a2-4f0a-885b-8971a7b711c2')\"\n",
              "            title=\"Convert this dataframe to an interactive table.\"\n",
              "            style=\"display:none;\">\n",
              "\n",
              "  <svg xmlns=\"http://www.w3.org/2000/svg\" height=\"24px\" viewBox=\"0 -960 960 960\">\n",
              "    <path d=\"M120-120v-720h720v720H120Zm60-500h600v-160H180v160Zm220 220h160v-160H400v160Zm0 220h160v-160H400v160ZM180-400h160v-160H180v160Zm440 0h160v-160H620v160ZM180-180h160v-160H180v160Zm440 0h160v-160H620v160Z\"/>\n",
              "  </svg>\n",
              "    </button>\n",
              "\n",
              "  <style>\n",
              "    .colab-df-container {\n",
              "      display:flex;\n",
              "      gap: 12px;\n",
              "    }\n",
              "\n",
              "    .colab-df-convert {\n",
              "      background-color: #E8F0FE;\n",
              "      border: none;\n",
              "      border-radius: 50%;\n",
              "      cursor: pointer;\n",
              "      display: none;\n",
              "      fill: #1967D2;\n",
              "      height: 32px;\n",
              "      padding: 0 0 0 0;\n",
              "      width: 32px;\n",
              "    }\n",
              "\n",
              "    .colab-df-convert:hover {\n",
              "      background-color: #E2EBFA;\n",
              "      box-shadow: 0px 1px 2px rgba(60, 64, 67, 0.3), 0px 1px 3px 1px rgba(60, 64, 67, 0.15);\n",
              "      fill: #174EA6;\n",
              "    }\n",
              "\n",
              "    .colab-df-buttons div {\n",
              "      margin-bottom: 4px;\n",
              "    }\n",
              "\n",
              "    [theme=dark] .colab-df-convert {\n",
              "      background-color: #3B4455;\n",
              "      fill: #D2E3FC;\n",
              "    }\n",
              "\n",
              "    [theme=dark] .colab-df-convert:hover {\n",
              "      background-color: #434B5C;\n",
              "      box-shadow: 0px 1px 3px 1px rgba(0, 0, 0, 0.15);\n",
              "      filter: drop-shadow(0px 1px 2px rgba(0, 0, 0, 0.3));\n",
              "      fill: #FFFFFF;\n",
              "    }\n",
              "  </style>\n",
              "\n",
              "    <script>\n",
              "      const buttonEl =\n",
              "        document.querySelector('#df-2461056e-b7a2-4f0a-885b-8971a7b711c2 button.colab-df-convert');\n",
              "      buttonEl.style.display =\n",
              "        google.colab.kernel.accessAllowed ? 'block' : 'none';\n",
              "\n",
              "      async function convertToInteractive(key) {\n",
              "        const element = document.querySelector('#df-2461056e-b7a2-4f0a-885b-8971a7b711c2');\n",
              "        const dataTable =\n",
              "          await google.colab.kernel.invokeFunction('convertToInteractive',\n",
              "                                                    [key], {});\n",
              "        if (!dataTable) return;\n",
              "\n",
              "        const docLinkHtml = 'Like what you see? Visit the ' +\n",
              "          '<a target=\"_blank\" href=https://colab.research.google.com/notebooks/data_table.ipynb>data table notebook</a>'\n",
              "          + ' to learn more about interactive tables.';\n",
              "        element.innerHTML = '';\n",
              "        dataTable['output_type'] = 'display_data';\n",
              "        await google.colab.output.renderOutput(dataTable, element);\n",
              "        const docLink = document.createElement('div');\n",
              "        docLink.innerHTML = docLinkHtml;\n",
              "        element.appendChild(docLink);\n",
              "      }\n",
              "    </script>\n",
              "  </div>\n",
              "\n",
              "\n",
              "    <div id=\"df-e816bdaf-9727-4094-8435-0026dc521390\">\n",
              "      <button class=\"colab-df-quickchart\" onclick=\"quickchart('df-e816bdaf-9727-4094-8435-0026dc521390')\"\n",
              "                title=\"Suggest charts\"\n",
              "                style=\"display:none;\">\n",
              "\n",
              "<svg xmlns=\"http://www.w3.org/2000/svg\" height=\"24px\"viewBox=\"0 0 24 24\"\n",
              "     width=\"24px\">\n",
              "    <g>\n",
              "        <path d=\"M19 3H5c-1.1 0-2 .9-2 2v14c0 1.1.9 2 2 2h14c1.1 0 2-.9 2-2V5c0-1.1-.9-2-2-2zM9 17H7v-7h2v7zm4 0h-2V7h2v10zm4 0h-2v-4h2v4z\"/>\n",
              "    </g>\n",
              "</svg>\n",
              "      </button>\n",
              "\n",
              "<style>\n",
              "  .colab-df-quickchart {\n",
              "      --bg-color: #E8F0FE;\n",
              "      --fill-color: #1967D2;\n",
              "      --hover-bg-color: #E2EBFA;\n",
              "      --hover-fill-color: #174EA6;\n",
              "      --disabled-fill-color: #AAA;\n",
              "      --disabled-bg-color: #DDD;\n",
              "  }\n",
              "\n",
              "  [theme=dark] .colab-df-quickchart {\n",
              "      --bg-color: #3B4455;\n",
              "      --fill-color: #D2E3FC;\n",
              "      --hover-bg-color: #434B5C;\n",
              "      --hover-fill-color: #FFFFFF;\n",
              "      --disabled-bg-color: #3B4455;\n",
              "      --disabled-fill-color: #666;\n",
              "  }\n",
              "\n",
              "  .colab-df-quickchart {\n",
              "    background-color: var(--bg-color);\n",
              "    border: none;\n",
              "    border-radius: 50%;\n",
              "    cursor: pointer;\n",
              "    display: none;\n",
              "    fill: var(--fill-color);\n",
              "    height: 32px;\n",
              "    padding: 0;\n",
              "    width: 32px;\n",
              "  }\n",
              "\n",
              "  .colab-df-quickchart:hover {\n",
              "    background-color: var(--hover-bg-color);\n",
              "    box-shadow: 0 1px 2px rgba(60, 64, 67, 0.3), 0 1px 3px 1px rgba(60, 64, 67, 0.15);\n",
              "    fill: var(--button-hover-fill-color);\n",
              "  }\n",
              "\n",
              "  .colab-df-quickchart-complete:disabled,\n",
              "  .colab-df-quickchart-complete:disabled:hover {\n",
              "    background-color: var(--disabled-bg-color);\n",
              "    fill: var(--disabled-fill-color);\n",
              "    box-shadow: none;\n",
              "  }\n",
              "\n",
              "  .colab-df-spinner {\n",
              "    border: 2px solid var(--fill-color);\n",
              "    border-color: transparent;\n",
              "    border-bottom-color: var(--fill-color);\n",
              "    animation:\n",
              "      spin 1s steps(1) infinite;\n",
              "  }\n",
              "\n",
              "  @keyframes spin {\n",
              "    0% {\n",
              "      border-color: transparent;\n",
              "      border-bottom-color: var(--fill-color);\n",
              "      border-left-color: var(--fill-color);\n",
              "    }\n",
              "    20% {\n",
              "      border-color: transparent;\n",
              "      border-left-color: var(--fill-color);\n",
              "      border-top-color: var(--fill-color);\n",
              "    }\n",
              "    30% {\n",
              "      border-color: transparent;\n",
              "      border-left-color: var(--fill-color);\n",
              "      border-top-color: var(--fill-color);\n",
              "      border-right-color: var(--fill-color);\n",
              "    }\n",
              "    40% {\n",
              "      border-color: transparent;\n",
              "      border-right-color: var(--fill-color);\n",
              "      border-top-color: var(--fill-color);\n",
              "    }\n",
              "    60% {\n",
              "      border-color: transparent;\n",
              "      border-right-color: var(--fill-color);\n",
              "    }\n",
              "    80% {\n",
              "      border-color: transparent;\n",
              "      border-right-color: var(--fill-color);\n",
              "      border-bottom-color: var(--fill-color);\n",
              "    }\n",
              "    90% {\n",
              "      border-color: transparent;\n",
              "      border-bottom-color: var(--fill-color);\n",
              "    }\n",
              "  }\n",
              "</style>\n",
              "\n",
              "      <script>\n",
              "        async function quickchart(key) {\n",
              "          const quickchartButtonEl =\n",
              "            document.querySelector('#' + key + ' button');\n",
              "          quickchartButtonEl.disabled = true;  // To prevent multiple clicks.\n",
              "          quickchartButtonEl.classList.add('colab-df-spinner');\n",
              "          try {\n",
              "            const charts = await google.colab.kernel.invokeFunction(\n",
              "                'suggestCharts', [key], {});\n",
              "          } catch (error) {\n",
              "            console.error('Error during call to suggestCharts:', error);\n",
              "          }\n",
              "          quickchartButtonEl.classList.remove('colab-df-spinner');\n",
              "          quickchartButtonEl.classList.add('colab-df-quickchart-complete');\n",
              "        }\n",
              "        (() => {\n",
              "          let quickchartButtonEl =\n",
              "            document.querySelector('#df-e816bdaf-9727-4094-8435-0026dc521390 button');\n",
              "          quickchartButtonEl.style.display =\n",
              "            google.colab.kernel.accessAllowed ? 'block' : 'none';\n",
              "        })();\n",
              "      </script>\n",
              "    </div>\n",
              "\n",
              "    </div>\n",
              "  </div>\n"
            ],
            "application/vnd.google.colaboratory.intrinsic+json": {
              "type": "dataframe",
              "variable_name": "df",
              "summary": "{\n  \"name\": \"df\",\n  \"rows\": 476,\n  \"fields\": [\n    {\n      \"column\": \"Player_Name\",\n      \"properties\": {\n        \"dtype\": \"string\",\n        \"num_unique_values\": 476,\n        \"samples\": [\n          \"Raul Jimenez \",\n          \"Carney Chukwuemeka\",\n          \"N'Golo Kante\"\n        ],\n        \"semantic_type\": \"\",\n        \"description\": \"\"\n      }\n    },\n    {\n      \"column\": \"Club\",\n      \"properties\": {\n        \"dtype\": \"category\",\n        \"num_unique_values\": 17,\n        \"samples\": [\n          \"Arsenal\",\n          \"Aston Villa\",\n          \"Crystal Palace\"\n        ],\n        \"semantic_type\": \"\",\n        \"description\": \"\"\n      }\n    },\n    {\n      \"column\": \"Position\",\n      \"properties\": {\n        \"dtype\": \"category\",\n        \"num_unique_values\": 4,\n        \"samples\": [\n          \"Forward\",\n          \"Defender\",\n          \"Goalkeeper\"\n        ],\n        \"semantic_type\": \"\",\n        \"description\": \"\"\n      }\n    },\n    {\n      \"column\": \"Goals_Scored\",\n      \"properties\": {\n        \"dtype\": \"number\",\n        \"std\": 3,\n        \"min\": 0,\n        \"max\": 23,\n        \"num_unique_values\": 21,\n        \"samples\": [\n          0,\n          15,\n          17\n        ],\n        \"semantic_type\": \"\",\n        \"description\": \"\"\n      }\n    },\n    {\n      \"column\": \"Assists\",\n      \"properties\": {\n        \"dtype\": \"number\",\n        \"std\": 2,\n        \"min\": 0,\n        \"max\": 14,\n        \"num_unique_values\": 14,\n        \"samples\": [\n          6,\n          10,\n          0\n        ],\n        \"semantic_type\": \"\",\n        \"description\": \"\"\n      }\n    },\n    {\n      \"column\": \"Total_Points\",\n      \"properties\": {\n        \"dtype\": \"number\",\n        \"std\": 51,\n        \"min\": 0,\n        \"max\": 244,\n        \"num_unique_values\": 157,\n        \"samples\": [\n          141,\n          5,\n          29\n        ],\n        \"semantic_type\": \"\",\n        \"description\": \"\"\n      }\n    },\n    {\n      \"column\": \"Minutes\",\n      \"properties\": {\n        \"dtype\": \"number\",\n        \"std\": 1073,\n        \"min\": 0,\n        \"max\": 3420,\n        \"num_unique_values\": 380,\n        \"samples\": [\n          507,\n          511,\n          3047\n        ],\n        \"semantic_type\": \"\",\n        \"description\": \"\"\n      }\n    },\n    {\n      \"column\": \"Goals_Conceded\",\n      \"properties\": {\n        \"dtype\": \"number\",\n        \"std\": 15,\n        \"min\": 0,\n        \"max\": 68,\n        \"num_unique_values\": 60,\n        \"samples\": [\n          0,\n          11,\n          50\n        ],\n        \"semantic_type\": \"\",\n        \"description\": \"\"\n      }\n    },\n    {\n      \"column\": \"Creativity\",\n      \"properties\": {\n        \"dtype\": \"number\",\n        \"std\": 251.47854078994843,\n        \"min\": 0.0,\n        \"max\": 1414.9,\n        \"num_unique_values\": 369,\n        \"samples\": [\n          270.8,\n          1029.6,\n          99.9\n        ],\n        \"semantic_type\": \"\",\n        \"description\": \"\"\n      }\n    },\n    {\n      \"column\": \"Influence\",\n      \"properties\": {\n        \"dtype\": \"number\",\n        \"std\": 267.77968073444515,\n        \"min\": 0.0,\n        \"max\": 1318.2,\n        \"num_unique_values\": 402,\n        \"samples\": [\n          376.0,\n          218.4,\n          1067.2\n        ],\n        \"semantic_type\": \"\",\n        \"description\": \"\"\n      }\n    },\n    {\n      \"column\": \"Threat\",\n      \"properties\": {\n        \"dtype\": \"number\",\n        \"std\": 318,\n        \"min\": 0,\n        \"max\": 1980,\n        \"num_unique_values\": 277,\n        \"samples\": [\n          189,\n          243,\n          612\n        ],\n        \"semantic_type\": \"\",\n        \"description\": \"\"\n      }\n    },\n    {\n      \"column\": \"Bonus\",\n      \"properties\": {\n        \"dtype\": \"number\",\n        \"std\": 6,\n        \"min\": 0,\n        \"max\": 40,\n        \"num_unique_values\": 28,\n        \"samples\": [\n          4,\n          22,\n          17\n        ],\n        \"semantic_type\": \"\",\n        \"description\": \"\"\n      }\n    },\n    {\n      \"column\": \"Clean_Sheets\",\n      \"properties\": {\n        \"dtype\": \"number\",\n        \"std\": 4,\n        \"min\": 0,\n        \"max\": 19,\n        \"num_unique_values\": 19,\n        \"samples\": [\n          0,\n          6,\n          5\n        ],\n        \"semantic_type\": \"\",\n        \"description\": \"\"\n      }\n    }\n  ]\n}"
            }
          },
          "metadata": {},
          "execution_count": 4
        }
      ]
    },
    {
      "cell_type": "markdown",
      "source": [
        "\n",
        "\n",
        "**Univariate Analysis**"
      ],
      "metadata": {
        "id": "4zcwxZi-aHXH"
      }
    },
    {
      "cell_type": "code",
      "source": [
        "plt.figure(figsize=(12, 4))\n",
        "sns.boxplot(data=df[\"Goals_Scored\"], orient=\"h\", showmeans=True)\n",
        "plt.show()"
      ],
      "metadata": {
        "colab": {
          "base_uri": "https://localhost:8080/",
          "height": 408
        },
        "id": "MZbSbS4lYuWB",
        "outputId": "d44e55a5-56dd-4117-80d2-7b8364c6b2d5"
      },
      "execution_count": 11,
      "outputs": [
        {
          "output_type": "display_data",
          "data": {
            "text/plain": [
              "<Figure size 1200x400 with 1 Axes>"
            ],
            "image/png": "[encoded data removed]"
          },
          "metadata": {}
        }
      ]
    },
    {
      "cell_type": "code",
      "source": [
        "sns.histplot(df[\"Goals_Scored\"], bins = 23)"
      ],
      "metadata": {
        "colab": {
          "base_uri": "https://localhost:8080/",
          "height": 467
        },
        "id": "GYP9aiKzbw06",
        "outputId": "917cc3ba-478d-4bd3-bf3b-dbbc1287ade6"
      },
      "execution_count": 14,
      "outputs": [
        {
          "output_type": "execute_result",
          "data": {
            "text/plain": [
              "<Axes: xlabel='Goals_Scored', ylabel='Count'>"
            ]
          },
          "metadata": {},
          "execution_count": 14
        },
        {
          "output_type": "display_data",
          "data": {
            "text/plain": [
              "<Figure size 640x480 with 1 Axes>"
            ],
            "image/png": "[encoded data removed]"
          },
          "metadata": {}
        }
      ]
    },
    {
      "cell_type": "markdown",
      "source": [
        "####Create Subplot to make the visual more efficient"
      ],
      "metadata": {
        "id": "1Lqk8pdkc7fL"
      }
    },
    {
      "cell_type": "code",
      "source": [
        "fig, ax = plt.subplots(2,1, sharex=True, gridspec_kw={\"height_ratios\": (1,2)}, figsize=(12,6))\n",
        "sns.boxplot(data=df[\"Goals_Scored\"], orient=\"h\", showmeans=True, ax=ax[0])\n",
        "sns.histplot(df[\"Goals_Scored\"], bins = 23, ax=ax[1])\n",
        "ax[1].axvline(df[\"Goals_Scored\"].mean(), color='red', linestyle='--')\n",
        "ax[1].axvline(df[\"Goals_Scored\"].median(), color='green', linestyle='-.')\n",
        "plt.show()"
      ],
      "metadata": {
        "colab": {
          "base_uri": "https://localhost:8080/",
          "height": 458
        },
        "id": "ZWBKGI-KaD-h",
        "outputId": "c031bc42-5301-4457-ba03-76916f42145b"
      },
      "execution_count": 20,
      "outputs": [
        {
          "output_type": "display_data",
          "data": {
            "text/plain": [
              "<Figure size 1200x600 with 2 Axes>"
            ],
            "image/png": "[encoded data removed]"
          },
          "metadata": {}
        }
      ]
    },
    {
      "cell_type": "code",
      "source": [],
      "metadata": {
        "id": "si-T78VIgtR7"
      },
      "execution_count": null,
      "outputs": []
    }
  ]
}